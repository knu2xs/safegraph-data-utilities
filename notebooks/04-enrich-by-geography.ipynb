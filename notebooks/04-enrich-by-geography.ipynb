{
 "metadata": {
  "language_info": {
   "codemirror_mode": {
    "name": "ipython",
    "version": 3
   },
   "file_extension": ".py",
   "mimetype": "text/x-python",
   "name": "python",
   "nbconvert_exporter": "python",
   "pygments_lexer": "ipython3",
   "version": "3.7.8-final"
  },
  "orig_nbformat": 2,
  "kernelspec": {
   "name": "python3",
   "display_name": "Python 3",
   "language": "python"
  }
 },
 "nbformat": 4,
 "nbformat_minor": 2,
 "cells": [
  {
   "cell_type": "code",
   "execution_count": 1,
   "metadata": {},
   "outputs": [],
   "source": [
    "import json\n",
    "from pathlib import Path\n",
    "\n",
    "import pandas as pd\n",
    "\n",
    "from arcgis.geometry import Geometry\n",
    "from arcgis.features import GeoAccessor"
   ]
  },
  {
   "cell_type": "code",
   "execution_count": 2,
   "metadata": {},
   "outputs": [],
   "source": [
    "dir_prj = Path.cwd().parent\n",
    "\n",
    "dir_data = dir_prj/'data'\n",
    "\n",
    "dir_raw = dir_data/'raw'\n",
    "dir_int = dir_data/'interim'\n",
    "\n",
    "gdb_raw = dir_raw/'raw.geodatabase'\n",
    "gdb_int = dir_int/'interim.geodatabase'"
   ]
  },
  {
   "cell_type": "code",
   "execution_count": 3,
   "metadata": {},
   "outputs": [
    {
     "output_type": "stream",
     "name": "stdout",
     "text": [
      "<class 'pandas.core.frame.DataFrame'>\nRangeIndex: 1148 entries, 0 to 1147\nData columns (total 9 columns):\n #   Column           Non-Null Count  Dtype  \n---  ------           --------------  -----  \n 0   FIPS             1148 non-null   object \n 1   SHAPE            1148 non-null   object \n 2   2017_2018        1148 non-null   float64\n 3   2018_2019        1148 non-null   float64\n 4   2018_2019_delta  1148 non-null   float64\n 5   2019_2020        1148 non-null   float64\n 6   2019_2020_delta  1148 non-null   float64\n 7   2020_2021        1148 non-null   float64\n 8   2020_2021_delta  1148 non-null   float64\ndtypes: float64(7), object(2)\nmemory usage: 80.8+ KB\n"
     ]
    }
   ],
   "source": [
    "bg_df = pd.read_parquet(dir_int/'block_group_patterns.parquet')\n",
    "\n",
    "bg_df.info()"
   ]
  },
  {
   "cell_type": "code",
   "execution_count": 4,
   "metadata": {},
   "outputs": [
    {
     "output_type": "stream",
     "name": "stdout",
     "text": [
      "<class 'pandas.core.frame.DataFrame'>\nRangeIndex: 1148 entries, 0 to 1147\nData columns (total 9 columns):\n #   Column           Non-Null Count  Dtype   \n---  ------           --------------  -----   \n 0   FIPS             1148 non-null   object  \n 1   SHAPE            1148 non-null   geometry\n 2   2017_2018        1148 non-null   float64 \n 3   2018_2019        1148 non-null   float64 \n 4   2018_2019_delta  1148 non-null   float64 \n 5   2019_2020        1148 non-null   float64 \n 6   2019_2020_delta  1148 non-null   float64 \n 7   2020_2021        1148 non-null   float64 \n 8   2020_2021_delta  1148 non-null   float64 \ndtypes: float64(7), geometry(1), object(1)\nmemory usage: 80.8+ KB\n"
     ]
    }
   ],
   "source": [
    "bg_df.SHAPE = bg_df.SHAPE.apply(lambda val: Geometry(json.loads(val)))\n",
    "bg_df.spatial.set_geometry('SHAPE')\n",
    "\n",
    "bg_df.info()"
   ]
  },
  {
   "cell_type": "code",
   "execution_count": 6,
   "metadata": {},
   "outputs": [
    {
     "output_type": "execute_result",
     "data": {
      "text/plain": [
       "False"
      ]
     },
     "metadata": {},
     "execution_count": 6
    }
   ],
   "source": [
    "bg_df.spatial.validate()"
   ]
  },
  {
   "cell_type": "code",
   "execution_count": null,
   "metadata": {},
   "outputs": [],
   "source": []
  }
 ]
}