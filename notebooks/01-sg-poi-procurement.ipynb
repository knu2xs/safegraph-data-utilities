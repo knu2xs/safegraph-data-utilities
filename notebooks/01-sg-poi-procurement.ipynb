{
 "cells": [
  {
   "cell_type": "code",
   "execution_count": 1,
   "metadata": {},
   "outputs": [],
   "source": [
    "import os\n",
    "from pathlib import Path\n",
    "\n",
    "from arcgis.features import GeoAccessor\n",
    "from arcgis.gis import GIS\n",
    "from dotenv import load_dotenv, find_dotenv"
   ]
  },
  {
   "cell_type": "code",
   "execution_count": 2,
   "metadata": {},
   "outputs": [
    {
     "data": {
      "text/html": [
       "GIS @ <a href=\"https://geoai.maps.arcgis.com\">https://geoai.maps.arcgis.com</a>"
      ],
      "text/plain": [
       "GIS @ https://geoai.maps.arcgis.com version:8.4"
      ]
     },
     "execution_count": 2,
     "metadata": {},
     "output_type": "execute_result"
    }
   ],
   "source": [
    "# paths to common data locations - NOTE: to convert any path to a raw string, simply use str(path_instance)\n",
    "project_parent = Path('./').absolute().parent\n",
    "data_dir = project_parent/'data'\n",
    "data_raw = data_dir/'raw'\n",
    "gdb_raw = data_raw/'raw.gdb'\n",
    "\n",
    "# load environment variables from .env\n",
    "load_dotenv(find_dotenv())\n",
    "\n",
    "# create a GIS object instance; if you did not enter any information here, it defaults to anonymous access to ArcGIS Online\n",
    "gis = GIS(\n",
    "    url=os.getenv('ESRI_GIS_URL'), \n",
    "    username=os.getenv('ESRI_GIS_USERNAME'),\n",
    "    password=os.getenv('ESRI_GIS_PASSWORD')\n",
    ")\n",
    "\n",
    "gis"
   ]
  },
  {
   "cell_type": "code",
   "execution_count": 3,
   "metadata": {},
   "outputs": [],
   "source": [
    "sg_poi_id = '3425348e4bee4059af2b353e52df43c2'"
   ]
  },
  {
   "cell_type": "code",
   "execution_count": 4,
   "metadata": {},
   "outputs": [
    {
     "data": {
      "text/plain": [
       "<FeatureLayer url:\"https://services7.arcgis.com/1EHlBtDZfCcbIqb1/arcgis/rest/services/aaa19f/FeatureServer/0\">"
      ]
     },
     "execution_count": 4,
     "metadata": {},
     "output_type": "execute_result"
    }
   ],
   "source": [
    "sg_poi_lyr = gis.content.get(sg_poi_id).layers[0]\n",
    "sg_poi_lyr"
   ]
  },
  {
   "cell_type": "code",
   "execution_count": 5,
   "metadata": {},
   "outputs": [],
   "source": [
    "sg_cat = 'Museums, Historical Sites, and Similar Institutions'\n",
    "sg_cty = 'Seattle'\n",
    "sg_st = 'WA'\n",
    "\n",
    "sql = f\"\"\"topCat = '{sg_cat}' AND city = '{sg_cty}' AND state = '{sg_st}'\"\"\""
   ]
  },
  {
   "cell_type": "code",
   "execution_count": 15,
   "metadata": {},
   "outputs": [
    {
     "data": {
      "text/html": [
       "<div>\n",
       "<style scoped>\n",
       "    .dataframe tbody tr th:only-of-type {\n",
       "        vertical-align: middle;\n",
       "    }\n",
       "\n",
       "    .dataframe tbody tr th {\n",
       "        vertical-align: top;\n",
       "    }\n",
       "\n",
       "    .dataframe thead th {\n",
       "        text-align: right;\n",
       "    }\n",
       "</style>\n",
       "<table border=\"1\" class=\"dataframe\">\n",
       "  <thead>\n",
       "    <tr style=\"text-align: right;\">\n",
       "      <th></th>\n",
       "      <th>FID</th>\n",
       "      <th>sgpid</th>\n",
       "      <th>psgpid</th>\n",
       "      <th>sgbid</th>\n",
       "      <th>poiName</th>\n",
       "      <th>brands</th>\n",
       "      <th>topCat</th>\n",
       "      <th>latitude</th>\n",
       "      <th>longitude</th>\n",
       "      <th>address</th>\n",
       "      <th>city</th>\n",
       "      <th>state</th>\n",
       "      <th>zip_code</th>\n",
       "      <th>placekey</th>\n",
       "      <th>iso_country_code</th>\n",
       "      <th>SHAPE</th>\n",
       "    </tr>\n",
       "  </thead>\n",
       "  <tbody>\n",
       "    <tr>\n",
       "      <th>0</th>\n",
       "      <td>307</td>\n",
       "      <td>sg:170f22677e074ceaa66c2b3f97a78510</td>\n",
       "      <td>null</td>\n",
       "      <td>null</td>\n",
       "      <td>Diagonal Ave South Public Shoreline Access</td>\n",
       "      <td>null</td>\n",
       "      <td>Museums, Historical Sites, and Similar Institu...</td>\n",
       "      <td>47.560730</td>\n",
       "      <td>-122.343707</td>\n",
       "      <td>4691 4699 Diagonal Ave S</td>\n",
       "      <td>Seattle</td>\n",
       "      <td>WA</td>\n",
       "      <td>98134</td>\n",
       "      <td>zzy-222@5x4-4vw-y7q</td>\n",
       "      <td>US</td>\n",
       "      <td>{\"x\": -13619239.16500146, \"y\": 6034084.6193307...</td>\n",
       "    </tr>\n",
       "    <tr>\n",
       "      <th>1</th>\n",
       "      <td>20300</td>\n",
       "      <td>sg:2ebe2cebb284471cb13ee9a9f55aa69f</td>\n",
       "      <td>null</td>\n",
       "      <td>null</td>\n",
       "      <td>Ella Bailey Park</td>\n",
       "      <td>null</td>\n",
       "      <td>Museums, Historical Sites, and Similar Institu...</td>\n",
       "      <td>47.640686</td>\n",
       "      <td>-122.391383</td>\n",
       "      <td>2601 West Smith St</td>\n",
       "      <td>Seattle</td>\n",
       "      <td>WA</td>\n",
       "      <td>98199</td>\n",
       "      <td>zzz-222@5x4-4fy-y9z</td>\n",
       "      <td>US</td>\n",
       "      <td>{\"x\": -13624546.433044516, \"y\": 6047284.608349...</td>\n",
       "    </tr>\n",
       "    <tr>\n",
       "      <th>2</th>\n",
       "      <td>43145</td>\n",
       "      <td>sg:b5c11e760ee343939a74857c92ee1521</td>\n",
       "      <td>null</td>\n",
       "      <td>null</td>\n",
       "      <td>Stanley Sayres Memorial Park</td>\n",
       "      <td>null</td>\n",
       "      <td>Museums, Historical Sites, and Similar Institu...</td>\n",
       "      <td>47.570330</td>\n",
       "      <td>-122.277515</td>\n",
       "      <td>3800 Lake Washington Blvd S</td>\n",
       "      <td>Seattle</td>\n",
       "      <td>WA</td>\n",
       "      <td>98118</td>\n",
       "      <td>zzz-222@5x4-49q-jn5</td>\n",
       "      <td>US</td>\n",
       "      <td>{\"x\": -13611870.70526687, \"y\": 6035668.4246060...</td>\n",
       "    </tr>\n",
       "    <tr>\n",
       "      <th>3</th>\n",
       "      <td>48959</td>\n",
       "      <td>sg:8496210929b844d197a933b3ef49db8f</td>\n",
       "      <td>null</td>\n",
       "      <td>null</td>\n",
       "      <td>Hing Hay Park</td>\n",
       "      <td>null</td>\n",
       "      <td>Museums, Historical Sites, and Similar Institu...</td>\n",
       "      <td>47.598607</td>\n",
       "      <td>-122.325435</td>\n",
       "      <td>414 6th Ave S</td>\n",
       "      <td>Seattle</td>\n",
       "      <td>WA</td>\n",
       "      <td>98104</td>\n",
       "      <td>zzz-222@5x4-4vt-5zz</td>\n",
       "      <td>US</td>\n",
       "      <td>{\"x\": -13617205.13526568, \"y\": 6040335.2437240...</td>\n",
       "    </tr>\n",
       "    <tr>\n",
       "      <th>4</th>\n",
       "      <td>64647</td>\n",
       "      <td>sg:a2f401845446427bb425c46e4cd7b9dd</td>\n",
       "      <td>sg:e487863dfcd04e5d91d53d7b157fed5a</td>\n",
       "      <td>null</td>\n",
       "      <td>Gilman Playground</td>\n",
       "      <td>null</td>\n",
       "      <td>Museums, Historical Sites, and Similar Institu...</td>\n",
       "      <td>47.667418</td>\n",
       "      <td>-122.369522</td>\n",
       "      <td>923 NW 54th St</td>\n",
       "      <td>Seattle</td>\n",
       "      <td>WA</td>\n",
       "      <td>98107</td>\n",
       "      <td>zzy-222@5x4-4g3-9j9</td>\n",
       "      <td>US</td>\n",
       "      <td>{\"x\": -13622112.877656283, \"y\": 6051702.317211...</td>\n",
       "    </tr>\n",
       "  </tbody>\n",
       "</table>\n",
       "</div>"
      ],
      "text/plain": [
       "     FID                                sgpid  \\\n",
       "0    307  sg:170f22677e074ceaa66c2b3f97a78510   \n",
       "1  20300  sg:2ebe2cebb284471cb13ee9a9f55aa69f   \n",
       "2  43145  sg:b5c11e760ee343939a74857c92ee1521   \n",
       "3  48959  sg:8496210929b844d197a933b3ef49db8f   \n",
       "4  64647  sg:a2f401845446427bb425c46e4cd7b9dd   \n",
       "\n",
       "                                psgpid sgbid  \\\n",
       "0                                 null  null   \n",
       "1                                 null  null   \n",
       "2                                 null  null   \n",
       "3                                 null  null   \n",
       "4  sg:e487863dfcd04e5d91d53d7b157fed5a  null   \n",
       "\n",
       "                                      poiName brands  \\\n",
       "0  Diagonal Ave South Public Shoreline Access   null   \n",
       "1                            Ella Bailey Park   null   \n",
       "2                Stanley Sayres Memorial Park   null   \n",
       "3                               Hing Hay Park   null   \n",
       "4                           Gilman Playground   null   \n",
       "\n",
       "                                              topCat   latitude   longitude  \\\n",
       "0  Museums, Historical Sites, and Similar Institu...  47.560730 -122.343707   \n",
       "1  Museums, Historical Sites, and Similar Institu...  47.640686 -122.391383   \n",
       "2  Museums, Historical Sites, and Similar Institu...  47.570330 -122.277515   \n",
       "3  Museums, Historical Sites, and Similar Institu...  47.598607 -122.325435   \n",
       "4  Museums, Historical Sites, and Similar Institu...  47.667418 -122.369522   \n",
       "\n",
       "                       address     city state  zip_code             placekey  \\\n",
       "0     4691 4699 Diagonal Ave S  Seattle    WA     98134  zzy-222@5x4-4vw-y7q   \n",
       "1           2601 West Smith St  Seattle    WA     98199  zzz-222@5x4-4fy-y9z   \n",
       "2  3800 Lake Washington Blvd S  Seattle    WA     98118  zzz-222@5x4-49q-jn5   \n",
       "3                414 6th Ave S  Seattle    WA     98104  zzz-222@5x4-4vt-5zz   \n",
       "4               923 NW 54th St  Seattle    WA     98107  zzy-222@5x4-4g3-9j9   \n",
       "\n",
       "  iso_country_code                                              SHAPE  \n",
       "0               US  {\"x\": -13619239.16500146, \"y\": 6034084.6193307...  \n",
       "1               US  {\"x\": -13624546.433044516, \"y\": 6047284.608349...  \n",
       "2               US  {\"x\": -13611870.70526687, \"y\": 6035668.4246060...  \n",
       "3               US  {\"x\": -13617205.13526568, \"y\": 6040335.2437240...  \n",
       "4               US  {\"x\": -13622112.877656283, \"y\": 6051702.317211...  "
      ]
     },
     "execution_count": 15,
     "metadata": {},
     "output_type": "execute_result"
    }
   ],
   "source": [
    "sg_poi_df = sg_poi_lyr.query(sql).sdf\n",
    "\n",
    "sg_poi_df.head()"
   ]
  },
  {
   "cell_type": "code",
   "execution_count": 27,
   "metadata": {},
   "outputs": [
    {
     "data": {
      "text/plain": [
       "FID                                                            860879\n",
       "sgpid                             sg:019e60dd8d984b69994c37267bc103ad\n",
       "psgpid                                                           null\n",
       "sgbid                                                            null\n",
       "poiName                                               Green Lake Park\n",
       "brands                                                           null\n",
       "topCat              Museums, Historical Sites, and Similar Institu...\n",
       "latitude                                                      47.6778\n",
       "longitude                                                    -122.339\n",
       "address                                               Green Lake Park\n",
       "city                                                          Seattle\n",
       "state                                                              WA\n",
       "zip_code                                                        98103\n",
       "placekey                                          zzz-222@5x4-48g-q75\n",
       "iso_country_code                                                   US\n",
       "SHAPE               {'x': -13618752.142229233, 'y': 6053410.381454...\n",
       "Name: 110, dtype: object"
      ]
     },
     "execution_count": 27,
     "metadata": {},
     "output_type": "execute_result"
    }
   ],
   "source": [
    "poi_park = sg_poi_df[sg_poi_df.poiName.str.contains('Green Lake Park')].iloc[0]\n",
    "\n",
    "poi_park"
   ]
  },
  {
   "cell_type": "code",
   "execution_count": 29,
   "metadata": {},
   "outputs": [
    {
     "data": {
      "text/html": [
       "<div>\n",
       "<style scoped>\n",
       "    .dataframe tbody tr th:only-of-type {\n",
       "        vertical-align: middle;\n",
       "    }\n",
       "\n",
       "    .dataframe tbody tr th {\n",
       "        vertical-align: top;\n",
       "    }\n",
       "\n",
       "    .dataframe thead th {\n",
       "        text-align: right;\n",
       "    }\n",
       "</style>\n",
       "<table border=\"1\" class=\"dataframe\">\n",
       "  <thead>\n",
       "    <tr style=\"text-align: right;\">\n",
       "      <th></th>\n",
       "      <th>FID</th>\n",
       "      <th>sgpid</th>\n",
       "      <th>psgpid</th>\n",
       "      <th>sgbid</th>\n",
       "      <th>poiName</th>\n",
       "      <th>brands</th>\n",
       "      <th>topCat</th>\n",
       "      <th>latitude</th>\n",
       "      <th>longitude</th>\n",
       "      <th>address</th>\n",
       "      <th>city</th>\n",
       "      <th>state</th>\n",
       "      <th>zip_code</th>\n",
       "      <th>placekey</th>\n",
       "      <th>iso_country_code</th>\n",
       "      <th>SHAPE</th>\n",
       "    </tr>\n",
       "  </thead>\n",
       "  <tbody>\n",
       "  </tbody>\n",
       "</table>\n",
       "</div>"
      ],
      "text/plain": [
       "Empty DataFrame\n",
       "Columns: [FID, sgpid, psgpid, sgbid, poiName, brands, topCat, latitude, longitude, address, city, state, zip_code, placekey, iso_country_code, SHAPE]\n",
       "Index: []"
      ]
     },
     "execution_count": 29,
     "metadata": {},
     "output_type": "execute_result"
    }
   ],
   "source": [
    "sg_poi_df[sg_poi_df.sgbid == poi_park.sgpid]"
   ]
  },
  {
   "cell_type": "code",
   "execution_count": 7,
   "metadata": {},
   "outputs": [
    {
     "data": {
      "text/plain": [
       "'D:\\\\projects\\\\uw-parks\\\\data\\\\raw\\\\raw.gdb\\\\sg_poi_seattle_rec'"
      ]
     },
     "execution_count": 7,
     "metadata": {},
     "output_type": "execute_result"
    }
   ],
   "source": [
    "sg_poi_df.spatial.to_featureclass(gdb_raw/'sg_poi_seattle_rec')"
   ]
  }
 ],
 "metadata": {
  "kernelspec": {
   "display_name": "Python 3",
   "language": "python",
   "name": "python3"
  },
  "language_info": {
   "codemirror_mode": {
    "name": "ipython",
    "version": 3
   },
   "file_extension": ".py",
   "mimetype": "text/x-python",
   "name": "python",
   "nbconvert_exporter": "python",
   "pygments_lexer": "ipython3",
   "version": "3.7.9"
  }
 },
 "nbformat": 4,
 "nbformat_minor": 4
}
