{
 "cells": [
  {
   "cell_type": "markdown",
   "metadata": {},
   "source": [
    "# Procure Safegraph Pattersn on Amazon EC2\n",
    "\n",
    "This notebook is intended to speed up extracting the patterns data by taking the processing to the data. The Safeagraph Data resides in a Simple Storage Service (S3) bucet in the the US-East-2 region. Therefore, the most efficient way to get the data we need...aside from recruiting a true _big data_ infrastructure stack, is to run an Amazon Elastic Compute Cloud (EC2) instance with Python, Jupyter Notebook and a copy of this repository, and use this execution environment to extract just the data we need."
   ]
  },
  {
   "cell_type": "code",
   "execution_count": 1,
   "metadata": {},
   "outputs": [],
   "source": [
    "from pathlib import Path\n",
    "\n",
    "from sg_data import SafegraphClient"
   ]
  },
  {
   "cell_type": "code",
   "execution_count": 2,
   "metadata": {},
   "outputs": [],
   "source": [
    "dir_prj = Path('./').absolute().parent\n",
    "\n",
    "dir_data = dir_prj/'data'\n",
    "\n",
    "dir_raw = dir_data/'raw'"
   ]
  },
  {
   "cell_type": "markdown",
   "metadata": {},
   "source": [
    "For the notebook to run, you will need to populate the variables below with the information you get from your own account credentials provided by Safegraph for data access."
   ]
  },
  {
   "cell_type": "code",
   "execution_count": 3,
   "metadata": {},
   "outputs": [],
   "source": [
    "AWS_KEY = 'AO1L8A67NB5QUYLQOYLU'\n",
    "AWS_SECRET = 'iECNEV7kUMDtAv701meTrwtPFVysh6YaBecDEehY'\n",
    "\n",
    "sg_poi = 'sg:af471021a929414cbf69854e6f8f1b0c'  # white pass"
   ]
  },
  {
   "cell_type": "markdown",
   "metadata": {},
   "source": [
    "Using the credentials provided above, a Safegraph Client object instance can be created. This object is part of the Safegraph Data Utilities provided with this package."
   ]
  },
  {
   "cell_type": "code",
   "execution_count": 4,
   "metadata": {},
   "outputs": [
    {
     "data": {
      "text/plain": [
       "<sg_data.main.SafegraphClient at 0x7f4edd66c550>"
      ]
     },
     "execution_count": 4,
     "metadata": {},
     "output_type": "execute_result"
    }
   ],
   "source": [
    "sg = SafegraphClient(access_key=AWS_KEY, secret_key=AWS_SECRET)\n",
    "\n",
    "sg"
   ]
  },
  {
   "cell_type": "markdown",
   "metadata": {},
   "source": [
    "One of the functions of the Safegraph Client provides introspection, the ability to interrogate the available resources to discover what is available as a Pandas DataFrame."
   ]
  },
  {
   "cell_type": "code",
   "execution_count": 5,
   "metadata": {},
   "outputs": [
    {
     "data": {
      "text/html": [
       "<div>\n",
       "<style scoped>\n",
       "    .dataframe tbody tr th:only-of-type {\n",
       "        vertical-align: middle;\n",
       "    }\n",
       "\n",
       "    .dataframe tbody tr th {\n",
       "        vertical-align: top;\n",
       "    }\n",
       "\n",
       "    .dataframe thead th {\n",
       "        text-align: right;\n",
       "    }\n",
       "</style>\n",
       "<table border=\"1\" class=\"dataframe\">\n",
       "  <thead>\n",
       "    <tr style=\"text-align: right;\">\n",
       "      <th></th>\n",
       "      <th>source_path</th>\n",
       "      <th>year</th>\n",
       "      <th>month</th>\n",
       "      <th>resource_type</th>\n",
       "      <th>standardized_path</th>\n",
       "    </tr>\n",
       "  </thead>\n",
       "  <tbody>\n",
       "    <tr>\n",
       "      <th>0</th>\n",
       "      <td>monthly-patterns/brand_info_backfill/2020/12/1...</td>\n",
       "      <td>2018</td>\n",
       "      <td>1</td>\n",
       "      <td>brand_info</td>\n",
       "      <td>monthly-patterns/brand_info/2018/01/brand_info...</td>\n",
       "    </tr>\n",
       "    <tr>\n",
       "      <th>1</th>\n",
       "      <td>monthly-patterns/brand_info_backfill/2020/12/1...</td>\n",
       "      <td>2018</td>\n",
       "      <td>2</td>\n",
       "      <td>brand_info</td>\n",
       "      <td>monthly-patterns/brand_info/2018/02/brand_info...</td>\n",
       "    </tr>\n",
       "    <tr>\n",
       "      <th>2</th>\n",
       "      <td>monthly-patterns/brand_info_backfill/2020/12/1...</td>\n",
       "      <td>2018</td>\n",
       "      <td>3</td>\n",
       "      <td>brand_info</td>\n",
       "      <td>monthly-patterns/brand_info/2018/03/brand_info...</td>\n",
       "    </tr>\n",
       "    <tr>\n",
       "      <th>3</th>\n",
       "      <td>monthly-patterns/brand_info_backfill/2020/12/1...</td>\n",
       "      <td>2018</td>\n",
       "      <td>4</td>\n",
       "      <td>brand_info</td>\n",
       "      <td>monthly-patterns/brand_info/2018/04/brand_info...</td>\n",
       "    </tr>\n",
       "    <tr>\n",
       "      <th>4</th>\n",
       "      <td>monthly-patterns/brand_info_backfill/2020/12/1...</td>\n",
       "      <td>2018</td>\n",
       "      <td>5</td>\n",
       "      <td>brand_info</td>\n",
       "      <td>monthly-patterns/brand_info/2018/05/brand_info...</td>\n",
       "    </tr>\n",
       "  </tbody>\n",
       "</table>\n",
       "</div>"
      ],
      "text/plain": [
       "                                         source_path  year  month  \\\n",
       "0  monthly-patterns/brand_info_backfill/2020/12/1...  2018      1   \n",
       "1  monthly-patterns/brand_info_backfill/2020/12/1...  2018      2   \n",
       "2  monthly-patterns/brand_info_backfill/2020/12/1...  2018      3   \n",
       "3  monthly-patterns/brand_info_backfill/2020/12/1...  2018      4   \n",
       "4  monthly-patterns/brand_info_backfill/2020/12/1...  2018      5   \n",
       "\n",
       "  resource_type                                  standardized_path  \n",
       "0    brand_info  monthly-patterns/brand_info/2018/01/brand_info...  \n",
       "1    brand_info  monthly-patterns/brand_info/2018/02/brand_info...  \n",
       "2    brand_info  monthly-patterns/brand_info/2018/03/brand_info...  \n",
       "3    brand_info  monthly-patterns/brand_info/2018/04/brand_info...  \n",
       "4    brand_info  monthly-patterns/brand_info/2018/05/brand_info...  "
      ]
     },
     "execution_count": 5,
     "metadata": {},
     "output_type": "execute_result"
    }
   ],
   "source": [
    "ptrns_df = sg.content_dataframe\n",
    "\n",
    "ptrns_df.head()"
   ]
  },
  {
   "cell_type": "markdown",
   "metadata": {},
   "source": [
    "This DataFrame can be filtered and organized to discover what is available. In this case we are interested in what `patterns` data is available, and to more easily see the range available, we are sorting by month and year."
   ]
  },
  {
   "cell_type": "code",
   "execution_count": 6,
   "metadata": {},
   "outputs": [],
   "source": [
    "ptrns_df = ptrns_df[ptrns_df['resource_type'] == 'patterns'].sort_values(['year', 'month']).copy()"
   ]
  },
  {
   "cell_type": "markdown",
   "metadata": {},
   "source": [
    "Finally, although we are going to retrieve three years worth of data, since interested only in ski season, we are filtering to November through April. Although not instantanious, when I performed the same data pull on a local machine in my office, this process took over six hours, so this is a dramatic improvement."
   ]
  },
  {
   "cell_type": "code",
   "execution_count": 7,
   "metadata": {},
   "outputs": [],
   "source": [
    "row = ptrns_df.iloc[0]\n",
    "src = row.source_path"
   ]
  },
  {
   "cell_type": "code",
   "execution_count": 8,
   "metadata": {},
   "outputs": [
    {
     "ename": "ClientError",
     "evalue": "An error occurred (AccessDenied) when calling the SelectObjectContent operation: Access Denied",
     "output_type": "error",
     "traceback": [
      "\u001b[0;31m---------------------------------------------------------------------------\u001b[0m",
      "\u001b[0;31mClientError\u001b[0m                               Traceback (most recent call last)",
      "\u001b[0;32m<ipython-input-8-8a258bdbcb2e>\u001b[0m in \u001b[0;36m<module>\u001b[0;34m\u001b[0m\n\u001b[1;32m      1\u001b[0m \u001b[0;31m# https://aws.amazon.com/blogs/storage/querying-data-without-servers-or-databases-using-amazon-s3-select/\u001b[0m\u001b[0;34m\u001b[0m\u001b[0;34m\u001b[0m\u001b[0;34m\u001b[0m\u001b[0m\n\u001b[0;32m----> 2\u001b[0;31m resp = sg.s3.select_object_content(\n\u001b[0m\u001b[1;32m      3\u001b[0m     \u001b[0mBucket\u001b[0m\u001b[0;34m=\u001b[0m\u001b[0msg\u001b[0m\u001b[0;34m.\u001b[0m\u001b[0mbucket\u001b[0m\u001b[0;34m,\u001b[0m\u001b[0;34m\u001b[0m\u001b[0;34m\u001b[0m\u001b[0m\n\u001b[1;32m      4\u001b[0m     \u001b[0mKey\u001b[0m\u001b[0;34m=\u001b[0m\u001b[0msrc\u001b[0m\u001b[0;34m,\u001b[0m\u001b[0;34m\u001b[0m\u001b[0;34m\u001b[0m\u001b[0m\n\u001b[1;32m      5\u001b[0m     \u001b[0mExpressionType\u001b[0m\u001b[0;34m=\u001b[0m\u001b[0;34m'SQL'\u001b[0m\u001b[0;34m,\u001b[0m\u001b[0;34m\u001b[0m\u001b[0;34m\u001b[0m\u001b[0m\n",
      "\u001b[0;32m~/miniconda3/lib/python3.8/site-packages/botocore/client.py\u001b[0m in \u001b[0;36m_api_call\u001b[0;34m(self, *args, **kwargs)\u001b[0m\n\u001b[1;32m    355\u001b[0m                     \"%s() only accepts keyword arguments.\" % py_operation_name)\n\u001b[1;32m    356\u001b[0m             \u001b[0;31m# The \"self\" in this scope is referring to the BaseClient.\u001b[0m\u001b[0;34m\u001b[0m\u001b[0;34m\u001b[0m\u001b[0;34m\u001b[0m\u001b[0m\n\u001b[0;32m--> 357\u001b[0;31m             \u001b[0;32mreturn\u001b[0m \u001b[0mself\u001b[0m\u001b[0;34m.\u001b[0m\u001b[0m_make_api_call\u001b[0m\u001b[0;34m(\u001b[0m\u001b[0moperation_name\u001b[0m\u001b[0;34m,\u001b[0m \u001b[0mkwargs\u001b[0m\u001b[0;34m)\u001b[0m\u001b[0;34m\u001b[0m\u001b[0;34m\u001b[0m\u001b[0m\n\u001b[0m\u001b[1;32m    358\u001b[0m \u001b[0;34m\u001b[0m\u001b[0m\n\u001b[1;32m    359\u001b[0m         \u001b[0m_api_call\u001b[0m\u001b[0;34m.\u001b[0m\u001b[0m__name__\u001b[0m \u001b[0;34m=\u001b[0m \u001b[0mstr\u001b[0m\u001b[0;34m(\u001b[0m\u001b[0mpy_operation_name\u001b[0m\u001b[0;34m)\u001b[0m\u001b[0;34m\u001b[0m\u001b[0;34m\u001b[0m\u001b[0m\n",
      "\u001b[0;32m~/miniconda3/lib/python3.8/site-packages/botocore/client.py\u001b[0m in \u001b[0;36m_make_api_call\u001b[0;34m(self, operation_name, api_params)\u001b[0m\n\u001b[1;32m    674\u001b[0m             \u001b[0merror_code\u001b[0m \u001b[0;34m=\u001b[0m \u001b[0mparsed_response\u001b[0m\u001b[0;34m.\u001b[0m\u001b[0mget\u001b[0m\u001b[0;34m(\u001b[0m\u001b[0;34m\"Error\"\u001b[0m\u001b[0;34m,\u001b[0m \u001b[0;34m{\u001b[0m\u001b[0;34m}\u001b[0m\u001b[0;34m)\u001b[0m\u001b[0;34m.\u001b[0m\u001b[0mget\u001b[0m\u001b[0;34m(\u001b[0m\u001b[0;34m\"Code\"\u001b[0m\u001b[0;34m)\u001b[0m\u001b[0;34m\u001b[0m\u001b[0;34m\u001b[0m\u001b[0m\n\u001b[1;32m    675\u001b[0m             \u001b[0merror_class\u001b[0m \u001b[0;34m=\u001b[0m \u001b[0mself\u001b[0m\u001b[0;34m.\u001b[0m\u001b[0mexceptions\u001b[0m\u001b[0;34m.\u001b[0m\u001b[0mfrom_code\u001b[0m\u001b[0;34m(\u001b[0m\u001b[0merror_code\u001b[0m\u001b[0;34m)\u001b[0m\u001b[0;34m\u001b[0m\u001b[0;34m\u001b[0m\u001b[0m\n\u001b[0;32m--> 676\u001b[0;31m             \u001b[0;32mraise\u001b[0m \u001b[0merror_class\u001b[0m\u001b[0;34m(\u001b[0m\u001b[0mparsed_response\u001b[0m\u001b[0;34m,\u001b[0m \u001b[0moperation_name\u001b[0m\u001b[0;34m)\u001b[0m\u001b[0;34m\u001b[0m\u001b[0;34m\u001b[0m\u001b[0m\n\u001b[0m\u001b[1;32m    677\u001b[0m         \u001b[0;32melse\u001b[0m\u001b[0;34m:\u001b[0m\u001b[0;34m\u001b[0m\u001b[0;34m\u001b[0m\u001b[0m\n\u001b[1;32m    678\u001b[0m             \u001b[0;32mreturn\u001b[0m \u001b[0mparsed_response\u001b[0m\u001b[0;34m\u001b[0m\u001b[0;34m\u001b[0m\u001b[0m\n",
      "\u001b[0;31mClientError\u001b[0m: An error occurred (AccessDenied) when calling the SelectObjectContent operation: Access Denied"
     ]
    }
   ],
   "source": [
    "# https://aws.amazon.com/blogs/storage/querying-data-without-servers-or-databases-using-amazon-s3-select/\n",
    "# https://docs.aws.amazon.com/AmazonS3/latest/API/API_SelectObjectContent.html\n",
    "resp = sg.s3.select_object_content(\n",
    "    Bucket=sg.bucket,\n",
    "    Key=src,\n",
    "    ExpressionType='SQL',\n",
    "    Expression=f\"SELECT * FROM s3object s where s.\\\"safegraph_place_id\\\" = '{sg_poi}'\",\n",
    "    InputSerialization = {'CSV': {\"FileHeaderInfo\": \"Use\"}, 'CompressionType': 'GZIP'},\n",
    "    OutputSerialization = {'CSV': {}},\n",
    ")\n",
    "\n",
    "for event in resp['Payload']:\n",
    "    if 'Records' in event:\n",
    "        records = event['Records']['Payload'].decode('utf-8')\n",
    "        print(records)\n",
    "    elif 'Stats' in event:\n",
    "        statsDetails = event['Stats']['Details']"
   ]
  },
  {
   "cell_type": "code",
   "execution_count": null,
   "metadata": {},
   "outputs": [],
   "source": []
  }
 ],
 "metadata": {
  "kernelspec": {
   "display_name": "Python 3",
   "language": "python",
   "name": "python3"
  },
  "language_info": {
   "codemirror_mode": {
    "name": "ipython",
    "version": 3
   },
   "file_extension": ".py",
   "mimetype": "text/x-python",
   "name": "python",
   "nbconvert_exporter": "python",
   "pygments_lexer": "ipython3",
   "version": "3.8.5"
  }
 },
 "nbformat": 4,
 "nbformat_minor": 4
}
